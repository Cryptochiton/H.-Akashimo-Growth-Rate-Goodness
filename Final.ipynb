{
 "cells": [
  {
   "cell_type": "markdown",
   "id": "e73052a1-b30a-438c-ab5b-2d538f164b1b",
   "metadata": {},
   "source": [
    "## Importing packages:"
   ]
  },
  {
   "cell_type": "code",
   "execution_count": 316,
   "id": "ab3d9aaa-a804-4f26-9140-4f484c64dcf5",
   "metadata": {},
   "outputs": [],
   "source": [
    "import pandas as pd\n",
    "import numpy as np\n",
    "from matplotlib import pyplot as plt\n",
    "import io\n",
    "%matplotlib inline"
   ]
  },
  {
   "cell_type": "markdown",
   "id": "91eb8b36-a9bc-49d2-b306-d6ce09331758",
   "metadata": {},
   "source": [
    "### Importing raw data as a dataframe:"
   ]
  },
  {
   "cell_type": "code",
   "execution_count": 317,
   "id": "ef0b0edd-da84-4c04-9b0c-9552436af814",
   "metadata": {},
   "outputs": [
    {
     "data": {
      "text/html": [
       "<div>\n",
       "<style scoped>\n",
       "    .dataframe tbody tr th:only-of-type {\n",
       "        vertical-align: middle;\n",
       "    }\n",
       "\n",
       "    .dataframe tbody tr th {\n",
       "        vertical-align: top;\n",
       "    }\n",
       "\n",
       "    .dataframe thead th {\n",
       "        text-align: right;\n",
       "    }\n",
       "</style>\n",
       "<table border=\"1\" class=\"dataframe\">\n",
       "  <thead>\n",
       "    <tr style=\"text-align: right;\">\n",
       "      <th></th>\n",
       "      <th>vial_1</th>\n",
       "      <th>vial_2</th>\n",
       "      <th>vial_3</th>\n",
       "      <th>vial_4</th>\n",
       "    </tr>\n",
       "  </thead>\n",
       "  <tbody>\n",
       "    <tr>\n",
       "      <th>0</th>\n",
       "      <td>8529.21</td>\n",
       "      <td>8126.54</td>\n",
       "      <td>8447.98</td>\n",
       "      <td>8121.65</td>\n",
       "    </tr>\n",
       "    <tr>\n",
       "      <th>4</th>\n",
       "      <td>28899.83</td>\n",
       "      <td>21527.97</td>\n",
       "      <td>24203.88</td>\n",
       "      <td>14379.86</td>\n",
       "    </tr>\n",
       "    <tr>\n",
       "      <th>7</th>\n",
       "      <td>37358.64</td>\n",
       "      <td>65855.03</td>\n",
       "      <td>60546.91</td>\n",
       "      <td>21945.18</td>\n",
       "    </tr>\n",
       "    <tr>\n",
       "      <th>11</th>\n",
       "      <td>17982.66</td>\n",
       "      <td>87378.52</td>\n",
       "      <td>54229.34</td>\n",
       "      <td>22238.68</td>\n",
       "    </tr>\n",
       "    <tr>\n",
       "      <th>14</th>\n",
       "      <td>41350.93</td>\n",
       "      <td>145613.46</td>\n",
       "      <td>76338.18</td>\n",
       "      <td>50349.67</td>\n",
       "    </tr>\n",
       "    <tr>\n",
       "      <th>18</th>\n",
       "      <td>68812.12</td>\n",
       "      <td>148064.84</td>\n",
       "      <td>106557.92</td>\n",
       "      <td>76064.62</td>\n",
       "    </tr>\n",
       "  </tbody>\n",
       "</table>\n",
       "</div>"
      ],
      "text/plain": [
       "      vial_1     vial_2     vial_3    vial_4\n",
       "0    8529.21    8126.54    8447.98   8121.65\n",
       "4   28899.83   21527.97   24203.88  14379.86\n",
       "7   37358.64   65855.03   60546.91  21945.18\n",
       "11  17982.66   87378.52   54229.34  22238.68\n",
       "14  41350.93  145613.46   76338.18  50349.67\n",
       "18  68812.12  148064.84  106557.92  76064.62"
      ]
     },
     "execution_count": 317,
     "metadata": {},
     "output_type": "execute_result"
    }
   ],
   "source": [
    "data_f_over_2 = {'vial_1': [8529.21, 28899.83, 37358.64, 17982.66, 41350.93,\t68812.12],\n",
    "                 'vial_2': [8126.54, 21527.97, 65855.03, 87378.52, 145613.46, 148064.84],\n",
    "                 'vial_3': [8447.98,\t24203.88, 60546.91, 54229.34, 76338.18, 106557.92],\n",
    "                 'vial_4': [8121.65, 14379.86, 21945.18, 22238.68, 50349.67, 76064.62],\n",
    "                }\n",
    "\n",
    "df = pd.DataFrame(data_f_over_2, index=[0, 4, 7, 11, 14, 18])\n",
    "df"
   ]
  },
  {
   "cell_type": "markdown",
   "id": "10f62f78-30c7-49bd-8e31-119a9f6b3339",
   "metadata": {},
   "source": [
    "### Creating new dataframe as natural log of previous data"
   ]
  },
  {
   "cell_type": "code",
   "execution_count": 318,
   "id": "2c77817d-4875-4cb4-82c5-77a9fdc264e2",
   "metadata": {},
   "outputs": [
    {
     "data": {
      "text/html": [
       "<div>\n",
       "<style scoped>\n",
       "    .dataframe tbody tr th:only-of-type {\n",
       "        vertical-align: middle;\n",
       "    }\n",
       "\n",
       "    .dataframe tbody tr th {\n",
       "        vertical-align: top;\n",
       "    }\n",
       "\n",
       "    .dataframe thead th {\n",
       "        text-align: right;\n",
       "    }\n",
       "</style>\n",
       "<table border=\"1\" class=\"dataframe\">\n",
       "  <thead>\n",
       "    <tr style=\"text-align: right;\">\n",
       "      <th></th>\n",
       "      <th>vial_1</th>\n",
       "      <th>vial_2</th>\n",
       "      <th>vial_3</th>\n",
       "      <th>vial_4</th>\n",
       "    </tr>\n",
       "  </thead>\n",
       "  <tbody>\n",
       "    <tr>\n",
       "      <th>0</th>\n",
       "      <td>9.051252</td>\n",
       "      <td>9.002891</td>\n",
       "      <td>9.041683</td>\n",
       "      <td>9.002289</td>\n",
       "    </tr>\n",
       "    <tr>\n",
       "      <th>4</th>\n",
       "      <td>10.271591</td>\n",
       "      <td>9.977108</td>\n",
       "      <td>10.094268</td>\n",
       "      <td>9.573584</td>\n",
       "    </tr>\n",
       "    <tr>\n",
       "      <th>7</th>\n",
       "      <td>10.528319</td>\n",
       "      <td>11.095211</td>\n",
       "      <td>11.011174</td>\n",
       "      <td>9.996303</td>\n",
       "    </tr>\n",
       "    <tr>\n",
       "      <th>11</th>\n",
       "      <td>9.797163</td>\n",
       "      <td>11.378005</td>\n",
       "      <td>10.900977</td>\n",
       "      <td>10.009588</td>\n",
       "    </tr>\n",
       "    <tr>\n",
       "      <th>14</th>\n",
       "      <td>10.629850</td>\n",
       "      <td>11.888711</td>\n",
       "      <td>11.242928</td>\n",
       "      <td>10.826747</td>\n",
       "    </tr>\n",
       "    <tr>\n",
       "      <th>18</th>\n",
       "      <td>11.139135</td>\n",
       "      <td>11.905406</td>\n",
       "      <td>11.576444</td>\n",
       "      <td>11.239339</td>\n",
       "    </tr>\n",
       "  </tbody>\n",
       "</table>\n",
       "</div>"
      ],
      "text/plain": [
       "       vial_1     vial_2     vial_3     vial_4\n",
       "0    9.051252   9.002891   9.041683   9.002289\n",
       "4   10.271591   9.977108  10.094268   9.573584\n",
       "7   10.528319  11.095211  11.011174   9.996303\n",
       "11   9.797163  11.378005  10.900977  10.009588\n",
       "14  10.629850  11.888711  11.242928  10.826747\n",
       "18  11.139135  11.905406  11.576444  11.239339"
      ]
     },
     "execution_count": 318,
     "metadata": {},
     "output_type": "execute_result"
    }
   ],
   "source": [
    "df2 = np.log(df)\n",
    "df2"
   ]
  },
  {
   "cell_type": "markdown",
   "id": "bf796cb8-6001-4a18-89ec-46b3b75a8a90",
   "metadata": {},
   "source": [
    "### Displaying data as a line graph"
   ]
  },
  {
   "cell_type": "code",
   "execution_count": 319,
   "id": "6f92a58f-e88e-4117-a5e5-522a5eeb1db5",
   "metadata": {},
   "outputs": [
    {
     "data": {
      "text/plain": [
       "Text(0.5, 1.0, 'natural log of fluorescence over time')"
      ]
     },
     "execution_count": 319,
     "metadata": {},
     "output_type": "execute_result"
    },
    {
     "data": {
      "image/png": "[encoded data removed]",
      "text/plain": [
       "<Figure size 432x288 with 1 Axes>"
      ]
     },
     "metadata": {
      "needs_background": "light"
     },
     "output_type": "display_data"
    }
   ],
   "source": [
    "df2.plot()\n",
    "plt.xlabel('time')\n",
    "plt.ylabel('fluorescence')\n",
    "plt.title('natural log of fluorescence over time')"
   ]
  },
  {
   "cell_type": "markdown",
   "id": "8773a36c-2b68-4cea-885f-2853169c092e",
   "metadata": {},
   "source": [
    "### Finding and plotting means of natural logs of fluorescence"
   ]
  },
  {
   "cell_type": "code",
   "execution_count": 320,
   "id": "773b50e8-430d-4521-b4a7-bbc882a0d984",
   "metadata": {},
   "outputs": [],
   "source": [
    "mean = df2.mean(axis=1)"
   ]
  },
  {
   "cell_type": "code",
   "execution_count": 321,
   "id": "6b1be8cd-e00c-4839-b123-0c1079f88587",
   "metadata": {},
   "outputs": [
    {
     "name": "stdout",
     "output_type": "stream",
     "text": [
      "    mean_fluorescence\n",
      "0            9.024528\n",
      "4            9.979138\n",
      "7           10.657752\n",
      "11          10.521433\n",
      "14          11.147059\n",
      "18          11.465081\n"
     ]
    }
   ],
   "source": [
    "mean_fluorescence = mean.to_frame(name = 'mean_fluorescence')\n",
    "print(mean_fluorescence)"
   ]
  },
  {
   "cell_type": "code",
   "execution_count": 322,
   "id": "72096d7c-0877-4da7-b8e2-00e39319a035",
   "metadata": {},
   "outputs": [
    {
     "data": {
      "text/plain": [
       "[<matplotlib.lines.Line2D at 0x242b7c54490>]"
      ]
     },
     "execution_count": 322,
     "metadata": {},
     "output_type": "execute_result"
    },
    {
     "data": {
      "image/png": "[encoded data removed]",
      "text/plain": [
       "<Figure size 432x288 with 1 Axes>"
      ]
     },
     "metadata": {
      "needs_background": "light"
     },
     "output_type": "display_data"
    }
   ],
   "source": [
    "plt.plot(mean_fluorescence)"
   ]
  },
  {
   "cell_type": "markdown",
   "id": "7a9af893-b80f-4761-8eb6-b3bc1aa18e40",
   "metadata": {},
   "source": [
    "### Fitting line of best fit to data and displaying growth rate of cells:"
   ]
  },
  {
   "cell_type": "code",
   "execution_count": 332,
   "id": "830153f0-631b-4f33-84f0-b324ed634da8",
   "metadata": {},
   "outputs": [
    {
     "name": "stdout",
     "output_type": "stream",
     "text": [
      "the growth rate of these cells was an increase of 12.51% per day\n"
     ]
    },
    {
     "data": {
      "image/png": "[encoded data removed]",
      "text/plain": [
       "<Figure size 432x288 with 1 Axes>"
      ]
     },
     "metadata": {
      "needs_background": "light"
     },
     "output_type": "display_data"
    }
   ],
   "source": [
    "x = np.array([0, 4, 7, 11, 14, 18])\n",
    "y = np.array([9.024528, 9.979138, 10.657752, 10.521433, 11.147059, 11.465081])\n",
    "a, b = np.polyfit(x, y, 1)\n",
    "plt.scatter(x, y)\n",
    "plt.plot(x, a*x+b)\n",
    "\n",
    "plt.xlabel('time (days)')\n",
    "plt.ylabel('mean fluorescence')\n",
    "plt.title('natural log of mean fluorescence over time')\n",
    "\n",
    "growth_rate = \"{:.2f}\".format(a*100)\n",
    "print('the growth rate of these cells was an increase of '+ str(growth_rate) + '% per day')"
   ]
  }
 ],
 "metadata": {
  "kernelspec": {
   "display_name": "Python 3 (ipykernel)",
   "language": "python",
   "name": "python3"
  },
  "language_info": {
   "codemirror_mode": {
    "name": "ipython",
    "version": 3
   },
   "file_extension": ".py",
   "mimetype": "text/x-python",
   "name": "python",
   "nbconvert_exporter": "python",
   "pygments_lexer": "ipython3",
   "version": "3.8.13"
  }
 },
 "nbformat": 4,
 "nbformat_minor": 5
}
